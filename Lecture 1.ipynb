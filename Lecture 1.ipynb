{
 "cells": [
  {
   "cell_type": "code",
   "execution_count": null,
   "id": "ad774123",
   "metadata": {},
   "outputs": [],
   "source": [
    "## Today's Lecture Plan\n",
    "\n",
    "1. Variable and variable names  \n",
    "2. data and data types - numerical(int, float, complex), dict, bool, set, sequence (str, list, tuple)\n",
    "# Mutable and Immutable obj\n",
    "3. Functions (Basic) -> sum, min, max, len, type, print\n",
    "4. Basic Data structures functions"
   ]
  },
  {
   "cell_type": "code",
   "execution_count": null,
   "id": "e926c3c9",
   "metadata": {},
   "outputs": [],
   "source": [
    "- >Variable names Rules\n",
    "\n",
    "# A variable name must start with a letter or the underscore character\n",
    "# A variable name cannot start with a number\n",
    "# A variable name can only contain alpha-numeric characters and underscores (A-z, 0-9, and _ )\n",
    "# Variable names are case-sensitive (age, Age and AGE are three different variables)\n",
    "# A variable name cannot be any of the Python keywords."
   ]
  },
  {
   "cell_type": "code",
   "execution_count": null,
   "id": "3857443f",
   "metadata": {},
   "outputs": [],
   "source": [
    "# Exercise Create a variable named carname and assign the value Volvo to it."
   ]
  },
  {
   "cell_type": "code",
   "execution_count": null,
   "id": "8e88d829",
   "metadata": {},
   "outputs": [],
   "source": [
    "# comments"
   ]
  },
  {
   "cell_type": "code",
   "execution_count": 8,
   "id": "a4fd9efd",
   "metadata": {},
   "outputs": [
    {
     "name": "stdout",
     "output_type": "stream",
     "text": [
      "15\n"
     ]
    }
   ],
   "source": [
    "# container to store the value is called variable\n",
    "\n",
    "a = 10\n",
    "A = 15\n",
    "print(A)"
   ]
  },
  {
   "cell_type": "code",
   "execution_count": 4,
   "id": "37cd54c5",
   "metadata": {},
   "outputs": [
    {
     "data": {
      "text/plain": [
       "10"
      ]
     },
     "execution_count": 4,
     "metadata": {},
     "output_type": "execute_result"
    }
   ],
   "source": [
    "_a"
   ]
  },
  {
   "cell_type": "code",
   "execution_count": null,
   "id": "26eae0cf",
   "metadata": {},
   "outputs": [],
   "source": [
    "# data and data types - numerical(int, float, complex), dict, boolean, set, sequence (str, list, tuple)"
   ]
  },
  {
   "cell_type": "code",
   "execution_count": null,
   "id": "ed8b63ec",
   "metadata": {},
   "outputs": [],
   "source": [
    "Data Types in python\n",
    "1.numeric - int, float, complex\n",
    "\n"
   ]
  },
  {
   "cell_type": "code",
   "execution_count": 34,
   "id": "eb03f9ad",
   "metadata": {},
   "outputs": [],
   "source": [
    "a = 15\n",
    "# b = 10.00005\n",
    "# c = 1+2j \n",
    "# print(type(a))"
   ]
  },
  {
   "cell_type": "code",
   "execution_count": 9,
   "id": "75abfa2d",
   "metadata": {},
   "outputs": [
    {
     "name": "stdout",
     "output_type": "stream",
     "text": [
      "10\n"
     ]
    }
   ],
   "source": [
    "print(type(a))"
   ]
  },
  {
   "cell_type": "code",
   "execution_count": 20,
   "id": "767f7182",
   "metadata": {},
   "outputs": [
    {
     "data": {
      "text/plain": [
       "float"
      ]
     },
     "execution_count": 20,
     "metadata": {},
     "output_type": "execute_result"
    }
   ],
   "source": [
    "type(b)"
   ]
  },
  {
   "cell_type": "code",
   "execution_count": 24,
   "id": "b9d47a78",
   "metadata": {},
   "outputs": [
    {
     "data": {
      "text/plain": [
       "complex"
      ]
     },
     "execution_count": 24,
     "metadata": {},
     "output_type": "execute_result"
    }
   ],
   "source": [
    "c = 1+2j\n",
    "type(c)"
   ]
  },
  {
   "cell_type": "code",
   "execution_count": 29,
   "id": "32dd5e25",
   "metadata": {},
   "outputs": [],
   "source": [
    "a=1\n",
    "b=2"
   ]
  },
  {
   "cell_type": "code",
   "execution_count": 32,
   "id": "b3a75460",
   "metadata": {},
   "outputs": [
    {
     "data": {
      "text/plain": [
       "1"
      ]
     },
     "execution_count": 32,
     "metadata": {},
     "output_type": "execute_result"
    }
   ],
   "source": [
    "min(a,b)"
   ]
  },
  {
   "cell_type": "code",
   "execution_count": 33,
   "id": "32419f0f",
   "metadata": {},
   "outputs": [],
   "source": [
    "# create two variables and store float values and apply min function "
   ]
  },
  {
   "cell_type": "code",
   "execution_count": null,
   "id": "402e6264",
   "metadata": {},
   "outputs": [],
   "source": [
    "2. sequence - str, list, tuple"
   ]
  },
  {
   "cell_type": "code",
   "execution_count": 45,
   "id": "22fb0cb8",
   "metadata": {},
   "outputs": [],
   "source": [
    "int_A = 21"
   ]
  },
  {
   "cell_type": "code",
   "execution_count": 47,
   "id": "cbe5c870",
   "metadata": {},
   "outputs": [],
   "source": [
    "str_name = '21'"
   ]
  },
  {
   "cell_type": "code",
   "execution_count": 48,
   "id": "6f6775d0",
   "metadata": {},
   "outputs": [
    {
     "data": {
      "text/plain": [
       "str"
      ]
     },
     "execution_count": 48,
     "metadata": {},
     "output_type": "execute_result"
    }
   ],
   "source": [
    "type(str_name)"
   ]
  },
  {
   "cell_type": "code",
   "execution_count": 49,
   "id": "20369bd7",
   "metadata": {},
   "outputs": [
    {
     "data": {
      "text/plain": [
       "int"
      ]
     },
     "execution_count": 49,
     "metadata": {},
     "output_type": "execute_result"
    }
   ],
   "source": [
    "type(int_A)"
   ]
  },
  {
   "cell_type": "code",
   "execution_count": null,
   "id": "b1ae4584",
   "metadata": {},
   "outputs": [],
   "source": [
    "# create two variables \n",
    "1 store country's name\n",
    "2. store your name \n",
    "3. print the variables \n",
    "3. print the type of both variables"
   ]
  },
  {
   "cell_type": "code",
   "execution_count": 70,
   "id": "7e83c2ce",
   "metadata": {},
   "outputs": [
    {
     "data": {
      "text/plain": [
       "'I am Ram. I am working as a Data Scientist working at collegedunia. \\nI am 22 yrs old \\nand studied in GCET'"
      ]
     },
     "execution_count": 70,
     "metadata": {},
     "output_type": "execute_result"
    }
   ],
   "source": [
    "str_name = \"\"\"I am Ram. I am working as a Data Scientist working at collegedunia. \n",
    "I am 22 yrs old \n",
    "and studied in GCET\"\"\"                                                                                                                                                                   \n",
    "str_name"
   ]
  },
  {
   "cell_type": "code",
   "execution_count": null,
   "id": "0a4aa9e8",
   "metadata": {},
   "outputs": [],
   "source": [
    "\\n - > enter or newline\n",
    "\\t -> tab"
   ]
  },
  {
   "cell_type": "code",
   "execution_count": null,
   "id": "2d7a810c",
   "metadata": {},
   "outputs": [],
   "source": [
    "3 Multiline strings\n",
    "\n",
    "# triple single quotes\n",
    "# triple double quotes "
   ]
  },
  {
   "cell_type": "code",
   "execution_count": 63,
   "id": "10b7d9b2",
   "metadata": {},
   "outputs": [],
   "source": [
    "str_passage = \"\"\"\n",
    "I am Ram.\n",
    "I am working as a Data Scientist.\n",
    "I am 22 yrs old.\n",
    "\"\"\" "
   ]
  },
  {
   "cell_type": "code",
   "execution_count": 64,
   "id": "f4abb18f",
   "metadata": {},
   "outputs": [
    {
     "data": {
      "text/plain": [
       "str"
      ]
     },
     "execution_count": 64,
     "metadata": {},
     "output_type": "execute_result"
    }
   ],
   "source": [
    "type(str_passage)"
   ]
  },
  {
   "cell_type": "code",
   "execution_count": 52,
   "id": "61897a52",
   "metadata": {},
   "outputs": [
    {
     "data": {
      "text/plain": [
       "'India'"
      ]
     },
     "execution_count": 52,
     "metadata": {},
     "output_type": "execute_result"
    }
   ],
   "source": [
    "str_country = \"India\"\n",
    "str_country"
   ]
  },
  {
   "cell_type": "code",
   "execution_count": 26,
   "id": "9f922bdb",
   "metadata": {},
   "outputs": [
    {
     "data": {
      "text/plain": [
       "7"
      ]
     },
     "execution_count": 26,
     "metadata": {},
     "output_type": "execute_result"
    }
   ],
   "source": [
    "name = 'Kathryn' "
   ]
  },
  {
   "cell_type": "code",
   "execution_count": 13,
   "id": "7d821abe",
   "metadata": {},
   "outputs": [
    {
     "data": {
      "text/plain": [
       "'Kat'"
      ]
     },
     "execution_count": 13,
     "metadata": {},
     "output_type": "execute_result"
    }
   ],
   "source": [
    "name[0:3] # : means starting pos till end position"
   ]
  },
  {
   "cell_type": "code",
   "execution_count": 35,
   "id": "6c276518",
   "metadata": {},
   "outputs": [
    {
     "data": {
      "text/plain": [
       "'Kathryn'"
      ]
     },
     "execution_count": 35,
     "metadata": {},
     "output_type": "execute_result"
    }
   ],
   "source": [
    "name[0:7] - python code"
   ]
  },
  {
   "cell_type": "code",
   "execution_count": 38,
   "id": "bddc31dc",
   "metadata": {},
   "outputs": [
    {
     "data": {
      "text/plain": [
       "'Khn'"
      ]
     },
     "execution_count": 38,
     "metadata": {},
     "output_type": "execute_result"
    }
   ],
   "source": [
    "name[0:7:3]\n",
    "\n",
    "#[start pos: end pos: step size] * end pos is not included"
   ]
  },
  {
   "cell_type": "code",
   "execution_count": 39,
   "id": "116a6764",
   "metadata": {},
   "outputs": [
    {
     "data": {
      "text/plain": [
       "'thr'"
      ]
     },
     "execution_count": 39,
     "metadata": {},
     "output_type": "execute_result"
    }
   ],
   "source": [
    "# 1 Fetch the characters from the string name so that the output is 'thr'\n",
    "name[2:5]"
   ]
  },
  {
   "cell_type": "code",
   "execution_count": null,
   "id": "6a197223",
   "metadata": {},
   "outputs": [],
   "source": [
    "# 2 Fetch the characters from the end of the string till the start of the \n",
    "#   string using negative indexing so that we get the output - 'nyrhtaK'"
   ]
  },
  {
   "cell_type": "code",
   "execution_count": 48,
   "id": "16167482",
   "metadata": {},
   "outputs": [
    {
     "data": {
      "text/plain": [
       "'nyrhtaK'"
      ]
     },
     "execution_count": 48,
     "metadata": {},
     "output_type": "execute_result"
    }
   ],
   "source": [
    "# Reverse the string \n",
    "\n",
    "name[::-1]"
   ]
  },
  {
   "cell_type": "code",
   "execution_count": 54,
   "id": "39194b10",
   "metadata": {},
   "outputs": [
    {
     "data": {
      "text/plain": [
       "'Kathryn'"
      ]
     },
     "execution_count": 54,
     "metadata": {},
     "output_type": "execute_result"
    }
   ],
   "source": [
    "name"
   ]
  },
  {
   "cell_type": "code",
   "execution_count": 56,
   "id": "80b4bdb2",
   "metadata": {},
   "outputs": [
    {
     "data": {
      "text/plain": [
       "'KATHRYN'"
      ]
     },
     "execution_count": 56,
     "metadata": {},
     "output_type": "execute_result"
    }
   ],
   "source": [
    "name.upper()"
   ]
  },
  {
   "cell_type": "code",
   "execution_count": 57,
   "id": "b9c162fd",
   "metadata": {},
   "outputs": [
    {
     "data": {
      "text/plain": [
       "'kathryn'"
      ]
     },
     "execution_count": 57,
     "metadata": {},
     "output_type": "execute_result"
    }
   ],
   "source": [
    "name.lower()"
   ]
  },
  {
   "cell_type": "code",
   "execution_count": 58,
   "id": "70ab6b45",
   "metadata": {},
   "outputs": [
    {
     "data": {
      "text/plain": [
       "'Kathryn'"
      ]
     },
     "execution_count": 58,
     "metadata": {},
     "output_type": "execute_result"
    }
   ],
   "source": [
    "name.capitalize()"
   ]
  },
  {
   "cell_type": "code",
   "execution_count": 62,
   "id": "bd4afe8b",
   "metadata": {},
   "outputs": [],
   "source": [
    "name1='my name is ram baldotra'"
   ]
  },
  {
   "cell_type": "code",
   "execution_count": 63,
   "id": "db93b90a",
   "metadata": {},
   "outputs": [
    {
     "data": {
      "text/plain": [
       "'My name is ram baldotra'"
      ]
     },
     "execution_count": 63,
     "metadata": {},
     "output_type": "execute_result"
    }
   ],
   "source": [
    "name1.capitalize()"
   ]
  },
  {
   "cell_type": "code",
   "execution_count": 64,
   "id": "810f1661",
   "metadata": {},
   "outputs": [
    {
     "data": {
      "text/plain": [
       "'My Name Is Ram Baldotra'"
      ]
     },
     "execution_count": 64,
     "metadata": {},
     "output_type": "execute_result"
    }
   ],
   "source": [
    "name1.title()"
   ]
  },
  {
   "cell_type": "code",
   "execution_count": 65,
   "id": "af250464",
   "metadata": {},
   "outputs": [
    {
     "data": {
      "text/plain": [
       "'my name is ram baldotra'"
      ]
     },
     "execution_count": 65,
     "metadata": {},
     "output_type": "execute_result"
    }
   ],
   "source": [
    "name1"
   ]
  },
  {
   "cell_type": "code",
   "execution_count": 66,
   "id": "b73920b0",
   "metadata": {},
   "outputs": [
    {
     "data": {
      "text/plain": [
       "'m'"
      ]
     },
     "execution_count": 66,
     "metadata": {},
     "output_type": "execute_result"
    }
   ],
   "source": [
    "# if name1[0].upper() == name1:\n",
    "#     print(\"Yes The first character is capitalized\")\n",
    "# else:\n",
    "#     print(\"No , the first char is not capitalized\")"
   ]
  },
  {
   "cell_type": "code",
   "execution_count": 67,
   "id": "5484d8f6",
   "metadata": {},
   "outputs": [
    {
     "data": {
      "text/plain": [
       "'M'"
      ]
     },
     "execution_count": 67,
     "metadata": {},
     "output_type": "execute_result"
    }
   ],
   "source": [
    "name1[0].upper()"
   ]
  },
  {
   "cell_type": "code",
   "execution_count": null,
   "id": "cd43cd29",
   "metadata": {},
   "outputs": [],
   "source": []
  },
  {
   "cell_type": "code",
   "execution_count": null,
   "id": "03a8a8b6",
   "metadata": {},
   "outputs": [],
   "source": []
  },
  {
   "cell_type": "code",
   "execution_count": 15,
   "id": "09435c8c",
   "metadata": {},
   "outputs": [
    {
     "data": {
      "text/plain": [
       "'K'"
      ]
     },
     "execution_count": 15,
     "metadata": {},
     "output_type": "execute_result"
    }
   ],
   "source": [
    "name[0]"
   ]
  },
  {
   "cell_type": "code",
   "execution_count": 34,
   "id": "18dd1ebf",
   "metadata": {},
   "outputs": [
    {
     "data": {
      "text/plain": [
       "'at'"
      ]
     },
     "execution_count": 34,
     "metadata": {},
     "output_type": "execute_result"
    }
   ],
   "source": [
    "name[1:3]"
   ]
  },
  {
   "cell_type": "code",
   "execution_count": 14,
   "id": "f1b4da10",
   "metadata": {},
   "outputs": [
    {
     "data": {
      "text/plain": [
       "'h'"
      ]
     },
     "execution_count": 14,
     "metadata": {},
     "output_type": "execute_result"
    }
   ],
   "source": [
    "name[3]"
   ]
  },
  {
   "cell_type": "code",
   "execution_count": null,
   "id": "0ce2829c",
   "metadata": {},
   "outputs": [],
   "source": [
    "# String Indexing - fetching single character\n",
    "# String Slicing - fetching multiple characters"
   ]
  },
  {
   "cell_type": "code",
   "execution_count": null,
   "id": "eae8bb6d",
   "metadata": {},
   "outputs": [],
   "source": [
    "K-0\n",
    "a-1\n",
    "t-2\n",
    "h-3\n",
    "r-4\n",
    "y-5\n",
    "n-6"
   ]
  },
  {
   "cell_type": "code",
   "execution_count": null,
   "id": "d95f9c29",
   "metadata": {},
   "outputs": [],
   "source": [
    "n- -1\n",
    "y- -2\n",
    "r- -3\n",
    "h\n",
    "t\n",
    "a\n",
    "K  -7"
   ]
  },
  {
   "cell_type": "code",
   "execution_count": 2,
   "id": "67cc5ee0",
   "metadata": {},
   "outputs": [
    {
     "data": {
      "text/plain": [
       "7"
      ]
     },
     "execution_count": 2,
     "metadata": {},
     "output_type": "execute_result"
    }
   ],
   "source": [
    "len(name)"
   ]
  },
  {
   "cell_type": "code",
   "execution_count": 3,
   "id": "c771029a",
   "metadata": {},
   "outputs": [
    {
     "data": {
      "text/plain": [
       "'K'"
      ]
     },
     "execution_count": 3,
     "metadata": {},
     "output_type": "execute_result"
    }
   ],
   "source": [
    "name[0] name='Kathryn'"
   ]
  },
  {
   "cell_type": "code",
   "execution_count": 4,
   "id": "c4f7edc0",
   "metadata": {},
   "outputs": [
    {
     "data": {
      "text/plain": [
       "'a'"
      ]
     },
     "execution_count": 4,
     "metadata": {},
     "output_type": "execute_result"
    }
   ],
   "source": [
    "name[1]"
   ]
  },
  {
   "cell_type": "code",
   "execution_count": 5,
   "id": "08ef10bf",
   "metadata": {},
   "outputs": [
    {
     "data": {
      "text/plain": [
       "'t'"
      ]
     },
     "execution_count": 5,
     "metadata": {},
     "output_type": "execute_result"
    }
   ],
   "source": [
    "name[2]"
   ]
  },
  {
   "cell_type": "code",
   "execution_count": 6,
   "id": "938ef8a3",
   "metadata": {},
   "outputs": [
    {
     "data": {
      "text/plain": [
       "'n'"
      ]
     },
     "execution_count": 6,
     "metadata": {},
     "output_type": "execute_result"
    }
   ],
   "source": [
    "name[6]"
   ]
  },
  {
   "cell_type": "markdown",
   "id": "182094be",
   "metadata": {},
   "source": [
    "Negative indexing starting from -1 "
   ]
  },
  {
   "cell_type": "code",
   "execution_count": 7,
   "id": "ee731f51",
   "metadata": {},
   "outputs": [
    {
     "data": {
      "text/plain": [
       "'n'"
      ]
     },
     "execution_count": 7,
     "metadata": {},
     "output_type": "execute_result"
    }
   ],
   "source": [
    "name[-1] #- means from the last and 1 means the first character"
   ]
  },
  {
   "cell_type": "code",
   "execution_count": 8,
   "id": "4cc062d5",
   "metadata": {},
   "outputs": [
    {
     "data": {
      "text/plain": [
       "'y'"
      ]
     },
     "execution_count": 8,
     "metadata": {},
     "output_type": "execute_result"
    }
   ],
   "source": [
    "name[-2]"
   ]
  },
  {
   "cell_type": "code",
   "execution_count": null,
   "id": "d8004d96",
   "metadata": {},
   "outputs": [],
   "source": [
    "#fetching sequence of characters from a string"
   ]
  },
  {
   "cell_type": "code",
   "execution_count": null,
   "id": "ffd96ce3",
   "metadata": {},
   "outputs": [],
   "source": [
    "### Today's topics \n",
    "1. list, tuple, dict, set, range\n",
    "2. operators"
   ]
  },
  {
   "cell_type": "code",
   "execution_count": null,
   "id": "f382bb60",
   "metadata": {},
   "outputs": [],
   "source": [
    "#1. list -> it is a collection of elements, list can have elements belonging to any data type"
   ]
  },
  {
   "cell_type": "code",
   "execution_count": 1,
   "id": "3a8e8211",
   "metadata": {},
   "outputs": [
    {
     "data": {
      "text/plain": [
       "list"
      ]
     },
     "execution_count": 1,
     "metadata": {},
     "output_type": "execute_result"
    }
   ],
   "source": [
    "list1 = [1,2,3,4]\n",
    "type(list1)"
   ]
  },
  {
   "cell_type": "code",
   "execution_count": 2,
   "id": "9027784d",
   "metadata": {},
   "outputs": [
    {
     "data": {
      "text/plain": [
       "list"
      ]
     },
     "execution_count": 2,
     "metadata": {},
     "output_type": "execute_result"
    }
   ],
   "source": [
    "list1 = [1, 2.0, 'Kathryn', 29]\n",
    "type(list1)"
   ]
  },
  {
   "cell_type": "code",
   "execution_count": null,
   "id": "8dd1e060",
   "metadata": {},
   "outputs": [],
   "source": [
    "# Practice -\n",
    "1. Create a list that has int- > 2 ,3 and float ->8.0 and string - > 'Emily'"
   ]
  },
  {
   "cell_type": "code",
   "execution_count": null,
   "id": "ba501051",
   "metadata": {},
   "outputs": [],
   "source": [
    "# list functions"
   ]
  },
  {
   "cell_type": "code",
   "execution_count": 5,
   "id": "defbcbfe",
   "metadata": {},
   "outputs": [
    {
     "data": {
      "text/plain": [
       "list"
      ]
     },
     "execution_count": 5,
     "metadata": {},
     "output_type": "execute_result"
    }
   ],
   "source": [
    "list2 = [2,3,8.0,\"Emily\"]\n",
    "type(list2)"
   ]
  },
  {
   "cell_type": "code",
   "execution_count": 7,
   "id": "7d003b99",
   "metadata": {},
   "outputs": [
    {
     "data": {
      "text/plain": [
       "[2, 3, 8.0, 'Emily']"
      ]
     },
     "execution_count": 7,
     "metadata": {},
     "output_type": "execute_result"
    }
   ],
   "source": [
    "list2"
   ]
  },
  {
   "cell_type": "code",
   "execution_count": 8,
   "id": "8fbdc92f",
   "metadata": {},
   "outputs": [],
   "source": [
    "list2.append('Kathryn') # -> adds a value at the end of the list"
   ]
  },
  {
   "cell_type": "code",
   "execution_count": 10,
   "id": "6de5e89d",
   "metadata": {},
   "outputs": [
    {
     "data": {
      "text/plain": [
       "[2, 3, 8.0, 'Emily', 'Kathryn']"
      ]
     },
     "execution_count": 10,
     "metadata": {},
     "output_type": "execute_result"
    }
   ],
   "source": [
    "list2"
   ]
  },
  {
   "cell_type": "code",
   "execution_count": 11,
   "id": "41a604b3",
   "metadata": {},
   "outputs": [],
   "source": [
    "list2.append(4) ->[2, 3, 8.0, 'Emily', 'Kathryn', 4]"
   ]
  },
  {
   "cell_type": "code",
   "execution_count": 20,
   "id": "84350e57",
   "metadata": {},
   "outputs": [],
   "source": [
    "list2.insert(2,4) -> (index_pos, element)"
   ]
  },
  {
   "cell_type": "code",
   "execution_count": 21,
   "id": "5c51af5c",
   "metadata": {},
   "outputs": [
    {
     "data": {
      "text/plain": [
       "[2, 3, 4, 8.0, 'Emily', 'Kathryn', 4]"
      ]
     },
     "execution_count": 21,
     "metadata": {},
     "output_type": "execute_result"
    }
   ],
   "source": [
    "list2"
   ]
  },
  {
   "cell_type": "code",
   "execution_count": 27,
   "id": "c91a0bda",
   "metadata": {},
   "outputs": [
    {
     "data": {
      "text/plain": [
       "[2, 3, 8.0, 'Emily', 'Kathryn']"
      ]
     },
     "execution_count": 27,
     "metadata": {},
     "output_type": "execute_result"
    }
   ],
   "source": [
    "list1 = [2, 3, 8.0, 'Emily', 'Kathryn']\n",
    "list1"
   ]
  },
  {
   "cell_type": "code",
   "execution_count": 28,
   "id": "0b154f75",
   "metadata": {},
   "outputs": [],
   "source": [
    "list1.insert(1,4) #-> (index_pos, element)"
   ]
  },
  {
   "cell_type": "code",
   "execution_count": 29,
   "id": "c461eb56",
   "metadata": {},
   "outputs": [
    {
     "data": {
      "text/plain": [
       "[2, 4, 3, 8.0, 'Emily', 'Kathryn']"
      ]
     },
     "execution_count": 29,
     "metadata": {},
     "output_type": "execute_result"
    }
   ],
   "source": [
    "list1"
   ]
  },
  {
   "cell_type": "code",
   "execution_count": 30,
   "id": "b0d35edd",
   "metadata": {},
   "outputs": [],
   "source": [
    "list1.insert(3,5.0)"
   ]
  },
  {
   "cell_type": "code",
   "execution_count": 31,
   "id": "dfa31f66",
   "metadata": {},
   "outputs": [
    {
     "data": {
      "text/plain": [
       "[2, 4, 3, 5.0, 8.0, 'Emily', 'Kathryn']"
      ]
     },
     "execution_count": 31,
     "metadata": {},
     "output_type": "execute_result"
    }
   ],
   "source": [
    "list1"
   ]
  },
  {
   "cell_type": "code",
   "execution_count": 32,
   "id": "e3e6e7d8",
   "metadata": {},
   "outputs": [],
   "source": [
    "list1.remove(5.0) #-> (element)"
   ]
  },
  {
   "cell_type": "code",
   "execution_count": 33,
   "id": "3572b6fa",
   "metadata": {},
   "outputs": [
    {
     "data": {
      "text/plain": [
       "[2, 4, 3, 8.0, 'Emily', 'Kathryn']"
      ]
     },
     "execution_count": 33,
     "metadata": {},
     "output_type": "execute_result"
    }
   ],
   "source": [
    "list1"
   ]
  },
  {
   "cell_type": "code",
   "execution_count": 34,
   "id": "dfe63804",
   "metadata": {},
   "outputs": [],
   "source": [
    "list1.remove('Emily')"
   ]
  },
  {
   "cell_type": "code",
   "execution_count": 35,
   "id": "5dca1a6b",
   "metadata": {},
   "outputs": [
    {
     "data": {
      "text/plain": [
       "[2, 4, 3, 8.0, 'Kathryn']"
      ]
     },
     "execution_count": 35,
     "metadata": {},
     "output_type": "execute_result"
    }
   ],
   "source": [
    "list1"
   ]
  },
  {
   "cell_type": "code",
   "execution_count": 36,
   "id": "d561c497",
   "metadata": {},
   "outputs": [],
   "source": [
    "list1.append(2)"
   ]
  },
  {
   "cell_type": "code",
   "execution_count": 37,
   "id": "e3a19642",
   "metadata": {},
   "outputs": [
    {
     "data": {
      "text/plain": [
       "[2, 4, 3, 8.0, 'Kathryn', 2]"
      ]
     },
     "execution_count": 37,
     "metadata": {},
     "output_type": "execute_result"
    }
   ],
   "source": [
    "list1"
   ]
  },
  {
   "cell_type": "code",
   "execution_count": 41,
   "id": "ddaf3cb3",
   "metadata": {},
   "outputs": [
    {
     "data": {
      "text/plain": [
       "0"
      ]
     },
     "execution_count": 41,
     "metadata": {},
     "output_type": "execute_result"
    }
   ],
   "source": [
    "list1.count('K') #-> if the element is not present return 0"
   ]
  },
  {
   "cell_type": "code",
   "execution_count": 42,
   "id": "7a29c457",
   "metadata": {},
   "outputs": [
    {
     "data": {
      "text/plain": [
       "[2, 4, 3, 8.0, 'Kathryn', 2]"
      ]
     },
     "execution_count": 42,
     "metadata": {},
     "output_type": "execute_result"
    }
   ],
   "source": [
    "list1"
   ]
  },
  {
   "cell_type": "code",
   "execution_count": null,
   "id": "41b42d17",
   "metadata": {},
   "outputs": [],
   "source": [
    "marks of 10 students \n",
    "10, 20, 30, 40... 90"
   ]
  },
  {
   "cell_type": "code",
   "execution_count": 43,
   "id": "8ea62e9a",
   "metadata": {},
   "outputs": [
    {
     "ename": "TypeError",
     "evalue": "insert expected 2 arguments, got 4",
     "output_type": "error",
     "traceback": [
      "\u001b[1;31m---------------------------------------------------------------------------\u001b[0m",
      "\u001b[1;31mTypeError\u001b[0m                                 Traceback (most recent call last)",
      "Cell \u001b[1;32mIn[43], line 1\u001b[0m\n\u001b[1;32m----> 1\u001b[0m \u001b[43mlist1\u001b[49m\u001b[38;5;241;43m.\u001b[39;49m\u001b[43minsert\u001b[49m\u001b[43m(\u001b[49m\u001b[38;5;241;43m5\u001b[39;49m\u001b[43m,\u001b[49m\u001b[38;5;241;43m10\u001b[39;49m\u001b[43m,\u001b[49m\u001b[43m \u001b[49m\u001b[38;5;241;43m20\u001b[39;49m\u001b[43m,\u001b[49m\u001b[43m \u001b[49m\u001b[38;5;241;43m30\u001b[39;49m\u001b[43m)\u001b[49m\n",
      "\u001b[1;31mTypeError\u001b[0m: insert expected 2 arguments, got 4"
     ]
    }
   ],
   "source": [
    "list1.insert(5,10)"
   ]
  },
  {
   "cell_type": "code",
   "execution_count": 44,
   "id": "231740ae",
   "metadata": {},
   "outputs": [
    {
     "ename": "TypeError",
     "evalue": "list.append() takes exactly one argument (3 given)",
     "output_type": "error",
     "traceback": [
      "\u001b[1;31m---------------------------------------------------------------------------\u001b[0m",
      "\u001b[1;31mTypeError\u001b[0m                                 Traceback (most recent call last)",
      "Cell \u001b[1;32mIn[44], line 1\u001b[0m\n\u001b[1;32m----> 1\u001b[0m \u001b[43mlist1\u001b[49m\u001b[38;5;241;43m.\u001b[39;49m\u001b[43mappend\u001b[49m\u001b[43m(\u001b[49m\u001b[38;5;241;43m20\u001b[39;49m\u001b[43m,\u001b[49m\u001b[38;5;241;43m10\u001b[39;49m\u001b[43m,\u001b[49m\u001b[38;5;241;43m20\u001b[39;49m\u001b[43m)\u001b[49m\n",
      "\u001b[1;31mTypeError\u001b[0m: list.append() takes exactly one argument (3 given)"
     ]
    }
   ],
   "source": [
    "list1.append(20)\n",
    "list1.append(30)"
   ]
  },
  {
   "cell_type": "code",
   "execution_count": 45,
   "id": "3afcdf13",
   "metadata": {},
   "outputs": [],
   "source": [
    "list1.extend([10,20,30,40]) # -> extend appends more than one elements at the end of the list"
   ]
  },
  {
   "cell_type": "code",
   "execution_count": 46,
   "id": "1669ebeb",
   "metadata": {},
   "outputs": [
    {
     "data": {
      "text/plain": [
       "[2, 4, 3, 8.0, 'Kathryn', 2, 10, 20, 30, 40]"
      ]
     },
     "execution_count": 46,
     "metadata": {},
     "output_type": "execute_result"
    }
   ],
   "source": [
    "list1"
   ]
  },
  {
   "cell_type": "code",
   "execution_count": 48,
   "id": "091a6da0",
   "metadata": {},
   "outputs": [],
   "source": [
    "list1[0] = 1"
   ]
  },
  {
   "cell_type": "code",
   "execution_count": 49,
   "id": "df0782cf",
   "metadata": {},
   "outputs": [
    {
     "data": {
      "text/plain": [
       "[1, 4, 3, 8.0, 'Kathryn', 2, 10, 20, 30, 40]"
      ]
     },
     "execution_count": 49,
     "metadata": {},
     "output_type": "execute_result"
    }
   ],
   "source": [
    "list1"
   ]
  },
  {
   "cell_type": "code",
   "execution_count": 51,
   "id": "b49f12ac",
   "metadata": {},
   "outputs": [],
   "source": [
    "list1[0] = 2"
   ]
  },
  {
   "cell_type": "code",
   "execution_count": 52,
   "id": "15d4bde5",
   "metadata": {},
   "outputs": [
    {
     "data": {
      "text/plain": [
       "[2, 4, 3, 8.0, 'Kathryn', 2, 10, 20, 30, 40]"
      ]
     },
     "execution_count": 52,
     "metadata": {},
     "output_type": "execute_result"
    }
   ],
   "source": [
    "list1"
   ]
  },
  {
   "cell_type": "code",
   "execution_count": 54,
   "id": "d6e6f1d0",
   "metadata": {},
   "outputs": [],
   "source": [
    "list1[3] = 12"
   ]
  },
  {
   "cell_type": "code",
   "execution_count": 55,
   "id": "9a03b673",
   "metadata": {},
   "outputs": [
    {
     "data": {
      "text/plain": [
       "[2, 4, 3, 12, 'Kathryn', 2, 10, 20, 30, 40]"
      ]
     },
     "execution_count": 55,
     "metadata": {},
     "output_type": "execute_result"
    }
   ],
   "source": [
    "list1"
   ]
  },
  {
   "cell_type": "code",
   "execution_count": null,
   "id": "a99c2e4e",
   "metadata": {},
   "outputs": [],
   "source": [
    "# list is Mutable means we can modify the elements of the list "
   ]
  },
  {
   "cell_type": "code",
   "execution_count": null,
   "id": "7a3cf066",
   "metadata": {},
   "outputs": [],
   "source": [
    "# string is immutable"
   ]
  },
  {
   "cell_type": "code",
   "execution_count": 74,
   "id": "79a423c4",
   "metadata": {},
   "outputs": [
    {
     "data": {
      "text/plain": [
       "2007171543344"
      ]
     },
     "execution_count": 74,
     "metadata": {},
     "output_type": "execute_result"
    }
   ],
   "source": [
    "name = 'kathryn'\n",
    "name1 = name.upper()\n",
    "id(name)"
   ]
  },
  {
   "cell_type": "code",
   "execution_count": 75,
   "id": "4382127a",
   "metadata": {},
   "outputs": [
    {
     "data": {
      "text/plain": [
       "2007171661232"
      ]
     },
     "execution_count": 75,
     "metadata": {},
     "output_type": "execute_result"
    }
   ],
   "source": [
    "id(name1)"
   ]
  },
  {
   "cell_type": "code",
   "execution_count": 77,
   "id": "c4a3ad80",
   "metadata": {},
   "outputs": [
    {
     "data": {
      "text/plain": [
       "140726357298360"
      ]
     },
     "execution_count": 77,
     "metadata": {},
     "output_type": "execute_result"
    }
   ],
   "source": [
    "a = '2' #-> digital electronics, \n",
    "b = '2'\n",
    "id(a)"
   ]
  },
  {
   "cell_type": "code",
   "execution_count": 78,
   "id": "d47eabe2",
   "metadata": {},
   "outputs": [
    {
     "data": {
      "text/plain": [
       "140726357298360"
      ]
     },
     "execution_count": 78,
     "metadata": {},
     "output_type": "execute_result"
    }
   ],
   "source": [
    "id(b)"
   ]
  },
  {
   "cell_type": "code",
   "execution_count": 58,
   "id": "bafc61b1",
   "metadata": {},
   "outputs": [],
   "source": [
    "country = 'US'# String concatenation"
   ]
  },
  {
   "cell_type": "code",
   "execution_count": 65,
   "id": "f103dcbf",
   "metadata": {},
   "outputs": [
    {
     "data": {
      "text/plain": [
       "'kathrynUS'"
      ]
     },
     "execution_count": 65,
     "metadata": {},
     "output_type": "execute_result"
    }
   ],
   "source": [
    "name + \" \"country"
   ]
  },
  {
   "cell_type": "code",
   "execution_count": 62,
   "id": "69db5b14",
   "metadata": {},
   "outputs": [
    {
     "data": {
      "text/plain": [
       "'US'"
      ]
     },
     "execution_count": 62,
     "metadata": {},
     "output_type": "execute_result"
    }
   ],
   "source": [
    "country"
   ]
  },
  {
   "cell_type": "code",
   "execution_count": 63,
   "id": "71cf2b55",
   "metadata": {},
   "outputs": [
    {
     "data": {
      "text/plain": [
       "12"
      ]
     },
     "execution_count": 63,
     "metadata": {},
     "output_type": "execute_result"
    }
   ],
   "source": [
    "10+2"
   ]
  },
  {
   "cell_type": "code",
   "execution_count": 72,
   "id": "fc92b4fe",
   "metadata": {},
   "outputs": [],
   "source": [
    "str1 = \" \" # ->ascii characters / codes"
   ]
  },
  {
   "cell_type": "code",
   "execution_count": 73,
   "id": "7af3eec5",
   "metadata": {},
   "outputs": [
    {
     "data": {
      "text/plain": [
       "1"
      ]
     },
     "execution_count": 73,
     "metadata": {},
     "output_type": "execute_result"
    }
   ],
   "source": [
    "len(str1)"
   ]
  },
  {
   "cell_type": "code",
   "execution_count": null,
   "id": "35f81224",
   "metadata": {},
   "outputs": [],
   "source": []
  },
  {
   "cell_type": "code",
   "execution_count": 12,
   "id": "0760e9b7",
   "metadata": {},
   "outputs": [
    {
     "data": {
      "text/plain": [
       "[2, 3, 8.0, 'Emily', 'Kathryn', 4]"
      ]
     },
     "execution_count": 12,
     "metadata": {},
     "output_type": "execute_result"
    }
   ],
   "source": [
    "list2"
   ]
  },
  {
   "cell_type": "code",
   "execution_count": 16,
   "id": "83b5572f",
   "metadata": {},
   "outputs": [
    {
     "data": {
      "text/plain": [
       "8.0"
      ]
     },
     "execution_count": 16,
     "metadata": {},
     "output_type": "execute_result"
    }
   ],
   "source": [
    "list2[2] -> list indexing "
   ]
  },
  {
   "cell_type": "code",
   "execution_count": 19,
   "id": "c72ead06",
   "metadata": {},
   "outputs": [
    {
     "data": {
      "text/plain": [
       "['Emily', 'Kathryn', 4]"
      ]
     },
     "execution_count": 19,
     "metadata": {},
     "output_type": "execute_result"
    }
   ],
   "source": [
    "list2[3:] "
   ]
  },
  {
   "cell_type": "code",
   "execution_count": null,
   "id": "73b6891a",
   "metadata": {},
   "outputs": [],
   "source": [
    "2.tuple - > it can also contains elements belonging to different data types, \n",
    "Immutable"
   ]
  },
  {
   "cell_type": "code",
   "execution_count": 79,
   "id": "2c45fd10",
   "metadata": {},
   "outputs": [
    {
     "data": {
      "text/plain": [
       "tuple"
      ]
     },
     "execution_count": 79,
     "metadata": {},
     "output_type": "execute_result"
    }
   ],
   "source": [
    "tup1 = (1,2,3, 7.0, 'Kathryn')\n",
    "type(tup1)"
   ]
  },
  {
   "cell_type": "code",
   "execution_count": 81,
   "id": "68686bda",
   "metadata": {},
   "outputs": [
    {
     "data": {
      "text/plain": [
       "1"
      ]
     },
     "execution_count": 81,
     "metadata": {},
     "output_type": "execute_result"
    }
   ],
   "source": [
    "tup1.count(3)"
   ]
  },
  {
   "cell_type": "code",
   "execution_count": 82,
   "id": "c1a37ca1",
   "metadata": {},
   "outputs": [
    {
     "data": {
      "text/plain": [
       "5"
      ]
     },
     "execution_count": 82,
     "metadata": {},
     "output_type": "execute_result"
    }
   ],
   "source": [
    "len(tup1)"
   ]
  },
  {
   "cell_type": "code",
   "execution_count": 86,
   "id": "e49983bb",
   "metadata": {},
   "outputs": [
    {
     "data": {
      "text/plain": [
       "3"
      ]
     },
     "execution_count": 86,
     "metadata": {},
     "output_type": "execute_result"
    }
   ],
   "source": [
    "tup1[2]"
   ]
  },
  {
   "cell_type": "code",
   "execution_count": 84,
   "id": "fccb5ff3",
   "metadata": {},
   "outputs": [
    {
     "ename": "TypeError",
     "evalue": "'tuple' object does not support item assignment",
     "output_type": "error",
     "traceback": [
      "\u001b[1;31m---------------------------------------------------------------------------\u001b[0m",
      "\u001b[1;31mTypeError\u001b[0m                                 Traceback (most recent call last)",
      "Cell \u001b[1;32mIn[84], line 1\u001b[0m\n\u001b[1;32m----> 1\u001b[0m \u001b[43mtup1\u001b[49m\u001b[43m[\u001b[49m\u001b[38;5;241;43m2\u001b[39;49m\u001b[43m]\u001b[49m \u001b[38;5;241m=\u001b[39m \u001b[38;5;241m4\u001b[39m\n",
      "\u001b[1;31mTypeError\u001b[0m: 'tuple' object does not support item assignment"
     ]
    }
   ],
   "source": [
    "tup1[2] = 4"
   ]
  },
  {
   "cell_type": "code",
   "execution_count": 111,
   "id": "0c914175",
   "metadata": {},
   "outputs": [],
   "source": [
    "tup1 = (1,2,3,4)"
   ]
  },
  {
   "cell_type": "code",
   "execution_count": 112,
   "id": "b4c81a09",
   "metadata": {},
   "outputs": [
    {
     "data": {
      "text/plain": [
       "tuple"
      ]
     },
     "execution_count": 112,
     "metadata": {},
     "output_type": "execute_result"
    }
   ],
   "source": [
    "type(tup1)"
   ]
  },
  {
   "cell_type": "code",
   "execution_count": 115,
   "id": "ebfd316e",
   "metadata": {},
   "outputs": [],
   "source": [
    "tup2 = (1,) -> tuple of single element is always written like (element,)"
   ]
  },
  {
   "cell_type": "code",
   "execution_count": 116,
   "id": "42514071",
   "metadata": {},
   "outputs": [
    {
     "data": {
      "text/plain": [
       "tuple"
      ]
     },
     "execution_count": 116,
     "metadata": {},
     "output_type": "execute_result"
    }
   ],
   "source": [
    "type(tup2)"
   ]
  },
  {
   "cell_type": "code",
   "execution_count": null,
   "id": "aacb1500",
   "metadata": {},
   "outputs": [],
   "source": [
    "tup = (1)- > int "
   ]
  },
  {
   "cell_type": "code",
   "execution_count": null,
   "id": "10ecfd55",
   "metadata": {},
   "outputs": [],
   "source": [
    "#set, dictionary, "
   ]
  },
  {
   "cell_type": "code",
   "execution_count": null,
   "id": "5214106c",
   "metadata": {},
   "outputs": [],
   "source": []
  },
  {
   "cell_type": "code",
   "execution_count": null,
   "id": "5ca5569e",
   "metadata": {},
   "outputs": [],
   "source": []
  },
  {
   "cell_type": "code",
   "execution_count": 90,
   "id": "537ba5bb",
   "metadata": {},
   "outputs": [
    {
     "data": {
      "text/plain": [
       "[2, 4, 3, 12, 'Kathryn', 2, 10, 20, 30, 40]"
      ]
     },
     "execution_count": 90,
     "metadata": {},
     "output_type": "execute_result"
    }
   ],
   "source": [
    "list1"
   ]
  },
  {
   "cell_type": "code",
   "execution_count": 98,
   "id": "cdb54698",
   "metadata": {},
   "outputs": [],
   "source": [
    "del list1 -> deleted the object from the memory"
   ]
  },
  {
   "cell_type": "code",
   "execution_count": 93,
   "id": "617ab90b",
   "metadata": {},
   "outputs": [
    {
     "data": {
      "text/plain": [
       "[2, 3, 4, 8.0, 'Emily', 'Kathryn', 4]"
      ]
     },
     "execution_count": 93,
     "metadata": {},
     "output_type": "execute_result"
    }
   ],
   "source": [
    "list2"
   ]
  },
  {
   "cell_type": "code",
   "execution_count": 94,
   "id": "70e95ac4",
   "metadata": {},
   "outputs": [],
   "source": [
    "list2.clear() #- >clears the content of the object but object is still there"
   ]
  },
  {
   "cell_type": "code",
   "execution_count": 97,
   "id": "2a24be9e",
   "metadata": {},
   "outputs": [
    {
     "data": {
      "text/plain": [
       "0"
      ]
     },
     "execution_count": 97,
     "metadata": {},
     "output_type": "execute_result"
    }
   ],
   "source": [
    "len(list2)"
   ]
  },
  {
   "cell_type": "code",
   "execution_count": 99,
   "id": "2630b2c5",
   "metadata": {},
   "outputs": [
    {
     "ename": "NameError",
     "evalue": "name 'list1' is not defined",
     "output_type": "error",
     "traceback": [
      "\u001b[1;31m---------------------------------------------------------------------------\u001b[0m",
      "\u001b[1;31mNameError\u001b[0m                                 Traceback (most recent call last)",
      "Cell \u001b[1;32mIn[99], line 1\u001b[0m\n\u001b[1;32m----> 1\u001b[0m \u001b[43mlist1\u001b[49m \u001b[38;5;66;03m#-> empty list\u001b[39;00m\n",
      "\u001b[1;31mNameError\u001b[0m: name 'list1' is not defined"
     ]
    }
   ],
   "source": [
    "list1 #-> empty list"
   ]
  },
  {
   "cell_type": "code",
   "execution_count": null,
   "id": "be297bcc",
   "metadata": {},
   "outputs": [],
   "source": [
    "# var = [1,2] -> list"
   ]
  },
  {
   "cell_type": "code",
   "execution_count": null,
   "id": "bb239c3f",
   "metadata": {},
   "outputs": [],
   "source": []
  },
  {
   "cell_type": "code",
   "execution_count": null,
   "id": "f8d3f595",
   "metadata": {},
   "outputs": [],
   "source": []
  },
  {
   "cell_type": "code",
   "execution_count": null,
   "id": "19d223b0",
   "metadata": {},
   "outputs": [],
   "source": []
  },
  {
   "cell_type": "code",
   "execution_count": null,
   "id": "f694917c",
   "metadata": {},
   "outputs": [],
   "source": []
  },
  {
   "cell_type": "code",
   "execution_count": null,
   "id": "c21fda0a",
   "metadata": {},
   "outputs": [],
   "source": []
  },
  {
   "cell_type": "code",
   "execution_count": null,
   "id": "f209a10d",
   "metadata": {},
   "outputs": [],
   "source": []
  },
  {
   "cell_type": "code",
   "execution_count": null,
   "id": "b9d19063",
   "metadata": {},
   "outputs": [],
   "source": []
  },
  {
   "cell_type": "code",
   "execution_count": null,
   "id": "76ccdf08",
   "metadata": {},
   "outputs": [],
   "source": []
  },
  {
   "cell_type": "code",
   "execution_count": null,
   "id": "ac3d8af5",
   "metadata": {},
   "outputs": [],
   "source": []
  },
  {
   "cell_type": "code",
   "execution_count": null,
   "id": "c9173486",
   "metadata": {},
   "outputs": [],
   "source": [
    "# first character is in 0 index\n"
   ]
  },
  {
   "cell_type": "code",
   "execution_count": null,
   "id": "8d31eeba",
   "metadata": {},
   "outputs": [],
   "source": [
    "# 'Last week I was in New Jersey with Monica'"
   ]
  },
  {
   "cell_type": "code",
   "execution_count": null,
   "id": "2601d51d",
   "metadata": {},
   "outputs": [],
   "source": [
    "# NLP -> Natural Language Processing\n",
    "# nltk  and spacy\n"
   ]
  },
  {
   "cell_type": "code",
   "execution_count": null,
   "id": "6a4b4a36",
   "metadata": {},
   "outputs": [],
   "source": [
    "# spacy\n",
    "# function('Last week I was in New Jersey with Monica').noun()"
   ]
  },
  {
   "cell_type": "code",
   "execution_count": null,
   "id": "40dd5409",
   "metadata": {},
   "outputs": [],
   "source": [
    "pos"
   ]
  },
  {
   "cell_type": "code",
   "execution_count": null,
   "id": "45d5c13c",
   "metadata": {},
   "outputs": [],
   "source": []
  },
  {
   "cell_type": "code",
   "execution_count": null,
   "id": "111e515f",
   "metadata": {},
   "outputs": [],
   "source": []
  },
  {
   "cell_type": "code",
   "execution_count": null,
   "id": "e0c25177",
   "metadata": {},
   "outputs": [],
   "source": []
  },
  {
   "cell_type": "code",
   "execution_count": null,
   "id": "53846306",
   "metadata": {},
   "outputs": [],
   "source": []
  },
  {
   "cell_type": "code",
   "execution_count": null,
   "id": "8721e508",
   "metadata": {},
   "outputs": [],
   "source": []
  },
  {
   "cell_type": "code",
   "execution_count": null,
   "id": "724ffdfb",
   "metadata": {},
   "outputs": [],
   "source": []
  },
  {
   "cell_type": "code",
   "execution_count": null,
   "id": "e51a3c3d",
   "metadata": {},
   "outputs": [],
   "source": [
    "#complex(2,3) or c= 3+6j"
   ]
  }
 ],
 "metadata": {
  "kernelspec": {
   "display_name": "Python 3 (ipykernel)",
   "language": "python",
   "name": "python3"
  },
  "language_info": {
   "codemirror_mode": {
    "name": "ipython",
    "version": 3
   },
   "file_extension": ".py",
   "mimetype": "text/x-python",
   "name": "python",
   "nbconvert_exporter": "python",
   "pygments_lexer": "ipython3",
   "version": "3.11.1"
  }
 },
 "nbformat": 4,
 "nbformat_minor": 5
}
